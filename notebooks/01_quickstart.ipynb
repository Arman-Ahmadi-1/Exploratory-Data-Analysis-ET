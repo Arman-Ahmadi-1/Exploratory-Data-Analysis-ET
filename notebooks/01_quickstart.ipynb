{
 "cells": [
  {
   "cell_type": "markdown",
   "metadata": {
    "id": "k0GiuEhYhAcq"
   },
   "source": [
    "## CIMIS ETo Exploratory Data Analysis\n",
    "### Arman Ahmadi\n",
    "https://doi.org/10.1016/j.scitotenv.2022.157823"
   ]
  },
  {
   "cell_type": "markdown",
   "metadata": {
    "id": "gj0ZL7qFicUO"
   },
   "source": [
    "### Setup"
   ]
  },
  {
   "cell_type": "markdown",
   "metadata": {},
   "source": [
    "#### Importing Modules and Libraries"
   ]
  },
  {
   "cell_type": "code",
   "execution_count": null,
   "metadata": {
    "id": "Hmw6zgJaiuJl"
   },
   "outputs": [],
   "source": [
    "# --- Notebook setup: paths, imports, seeds ---\n",
    "from pathlib import Path\n",
    "import random\n",
    "import numpy as np\n",
    "import pandas as pd\n",
    "import sklearn as skl\n",
    "import seaborn as sns\n",
    "import glob\n",
    "\n",
    "# Paths (repo-relative)\n",
    "ROOT = Path(__file__).resolve().parents[1] if\\\n",
    "'__file__' in globals() else\\\n",
    "      Path.cwd().resolve().parent\n",
    "DATA_DIR = ROOT / 'data' / 'sample'\n",
    "OUT_DIR = ROOT / 'outputs'\n",
    "OUT_DIR.mkdir(exist_ok=True, parents=True)\n",
    "\n",
    "# Reproducibility\n",
    "SEED = 42\n",
    "random.seed(SEED)\n",
    "np.random.seed(SEED)\n",
    "\n",
    "# Core plotting\n",
    "import matplotlib.pyplot as plt\n",
    "\n",
    "# Metrics\n",
    "from sklearn.metrics import mean_absolute_error, r2_score\n",
    "\n",
    "# Remove warnings\n",
    "import warnings\n",
    "warnings.filterwarnings(\"ignore\")\n"
   ]
  },
  {
   "cell_type": "markdown",
   "metadata": {
    "id": "Kke4rGCqjl2f"
   },
   "source": [
    "### Data Importing and Preprocessing"
   ]
  },
  {
   "cell_type": "markdown",
   "metadata": {},
   "source": [
    "#### Import Data"
   ]
  },
  {
   "cell_type": "code",
   "execution_count": null,
   "metadata": {
    "id": "2ifNkCJ4o7G2"
   },
   "outputs": [],
   "source": [
    "path = DATA_DIR\n",
    "all_files = glob.glob(str(path / '*.csv'))\n",
    "\n",
    "stations = []\n",
    "\n",
    "for filename in all_files:\n",
    "    df = pd.read_csv(filename, index_col=None, header=0)\n",
    "    stations.append(df)\n",
    "    "
   ]
  },
  {
   "cell_type": "markdown",
   "metadata": {
    "id": "ucyLE3D6bBuu"
   },
   "source": [
    "#### Data Preprocessing"
   ]
  },
  {
   "cell_type": "code",
   "execution_count": null,
   "metadata": {
    "colab": {
     "base_uri": "https://localhost:8080/"
    },
    "executionInfo": {
     "elapsed": 28579,
     "status": "ok",
     "timestamp": 1655411154578,
     "user": {
      "displayName": "Arman Ahmadi",
      "userId": "08218172864365555484"
     },
     "user_tz": 420
    },
    "id": "7IZJBPsAdDdC",
    "outputId": "55e77387-95b7-4a2d-ddae-08b87608b997"
   },
   "outputs": [],
   "source": [
    "# Changing the columns' names\n",
    "\n",
    "for i in range(len(stations)):\n",
    "  stations[i].columns = ['StnID', 'StnName', 'EToZone', 'Elevation', 'CIMISRegion', 'Date', 'Jul', 'ETo', 'qc0', \\\n",
    "                    'Precipitation', 'qc1', 'SolRad', 'qc2', 'NetRad', 'qc3', 'MaxVapPres', 'qc4', \\\n",
    "                    'MinVapPres', 'qc5', 'AvgVapPres', 'qc6', 'MaxAirTemp', 'qc7', 'MinAirTemp', 'qc8', \\\n",
    "                    'AvgAirTemp', 'qc9', 'MaxRelHum', 'qc10', 'MinRelHum', 'qc11', 'AvgRelHum', 'qc12', \\\n",
    "                    'DewPoint', 'qc13', 'AvgWindSpeed', 'qc14', 'RoseNNE', 'qc15', 'RoseENE', 'qc16', \\\n",
    "                    'RoseESE', 'qc17', 'RoseSSE', 'qc18', 'RoseSSW', 'qc19', 'RoseWSW', 'qc20', \\\n",
    "                    'RoseWNW', 'qc21', 'RoseNNW', 'qc22', 'WindRun', 'qc23', 'MaxSoilTemp', 'qc24', \\\n",
    "                    'MinSoilTemp', 'qc25', 'AvgSoilTemp', 'qc26', 'PMETo', 'qc27', 'PMETr', 'qc28', \\\n",
    "                    'BattVolt', 'qc29', 'Exp1', 'Exp2']\n",
    "\n",
    "\n",
    "# Removing rows containing NaN in essential columns (where there is\n",
    "#   no reading for essential variables)\n",
    "\n",
    "StationsNan = []\n",
    "for i in range(len(stations)):\n",
    "  StationsNan.append(stations[i].dropna(subset=['Elevation', 'MaxAirTemp', 'MinAirTemp', 'AvgVapPres',\\\n",
    "                                                 'NetRad', 'AvgWindSpeed', 'Precipitation']))\n",
    "\n",
    "\n",
    "# Merging all data and calculating the number and proportion of NaNs\n",
    "\n",
    "AllStn = pd.concat(stations, axis=0, ignore_index=True)\n",
    "BeforeNaNDrop = len(AllStn)\n",
    "AllStnNan = pd.DataFrame.reset_index(AllStn.dropna(subset=['Elevation', 'MaxAirTemp', 'MinAirTemp', 'AvgVapPres',\\\n",
    "                                                 'NetRad', 'AvgWindSpeed', 'Precipitation']))\n",
    "\n",
    "AfterNaNDrop = len(AllStnNan)\n",
    "print('Number of samples BEFORE removing rows containing NaN: ', BeforeNaNDrop)\n",
    "print('Number of samples AFTER removing rows containing NaN: ', AfterNaNDrop)\n",
    "print('Number of removed samples due to NaN: ', BeforeNaNDrop-AfterNaNDrop)\n",
    "print('Proportion of removed samples due to NaN: ', (BeforeNaNDrop-AfterNaNDrop)/BeforeNaNDrop)\n",
    "print()\n",
    "\n",
    "\n",
    "# Removing rows with problematic data flags ('R') and calculating the number and proportion of QC flags\n",
    "\n",
    "StationsNanQc = []\n",
    "for i in range(len(StationsNan)):\n",
    "  A1 = StationsNan[i][~StationsNan[i]['qc2'].str.contains('R')]\n",
    "  A2 = A1[~A1['qc3'].str.contains('R')]\n",
    "  A3 = A2[~A2['qc4'].str.contains('R')]\n",
    "  A4 = A3[~A3['qc5'].str.contains('R')]\n",
    "  A5 = A4[~A4['qc6'].str.contains('R')]\n",
    "  A6 = A5[~A5['qc7'].str.contains('R')]\n",
    "  A7 = A6[~A6['qc8'].str.contains('R')]\n",
    "  A8 = A7[~A7['qc9'].str.contains('R')]\n",
    "  A9 = A8[~A8['qc10'].str.contains('R')]\n",
    "  A10 = A9[~A9['qc11'].str.contains('R')]\n",
    "  A11 = A10[~A10['qc12'].str.contains('R')]\n",
    "  A12 = A11[~A11['qc13'].str.contains('R')]\n",
    "  A13 = A12[~A12['qc14'].str.contains('R')]\n",
    "  A14 = A13[~A13['qc27'].str.contains('R')]\n",
    "  A15 = A14[~A14['qc1'].str.contains('R')]\n",
    "\n",
    "  StationsNanQc.append(A15)\n",
    "\n",
    "AllStnNanQc = pd.concat(StationsNanQc, axis=0, ignore_index=True)\n",
    "\n",
    "AfterQcDrop = len(AllStnNanQc)\n",
    "print('Number of samples AFTER removing rows containing QC flags: ', AfterQcDrop)\n",
    "print('Number of removed samples due to QC flags: ', AfterNaNDrop-AfterQcDrop)\n",
    "print('Proportion of removed samples due to QC flags: ', (AfterNaNDrop-AfterQcDrop)/BeforeNaNDrop)\n",
    "\n",
    "\n",
    "# Selecting a subset of important variables\n",
    "\n",
    "columns = [0,2,3,5,6,9,11,13,15,17,19,21,23,25,27,29,31,33,35,55,57,59,61]\n",
    "StationsNanQcSelected = []\n",
    "for i in range(len(StationsNanQc)):\n",
    "  StationsNanQcSelected.append(StationsNanQc[i].iloc[:, columns])\n",
    "\n",
    "AllStnNanQcSelected = pd.concat(StationsNanQcSelected, axis=0, ignore_index=True)\n",
    "\n",
    "\n",
    "# Renaming the final subsets to use in the following sections\n",
    "\n",
    "stn = StationsNanQcSelected\n",
    "AllStn = AllStnNanQcSelected\n",
    "\n",
    "# Rounding ETo zones and StnID to an integer number\n",
    "\n",
    "AllStn.EToZone = AllStn.EToZone.astype(int)\n",
    "AllStn.StnID = AllStn.StnID.astype(int)\n"
   ]
  },
  {
   "cell_type": "code",
   "execution_count": null,
   "metadata": {
    "id": "uH48hS1Aqkhe"
   },
   "outputs": [],
   "source": [
    "# Adding more meteorological variables and Calculating Daily ETo\n",
    "\n",
    "# Saturation vapor pressure (kPa) at the maximum and minimum daily air temperature (deg.C)\n",
    "AllStn['es_max'] = 0.6108 * np.exp((17.27*AllStn.MaxAirTemp) / (AllStn.MaxAirTemp+237.3))\n",
    "AllStn['es_min'] = 0.6108 * np.exp((17.27*AllStn.MinAirTemp) / (AllStn.MinAirTemp+237.3))\n",
    "\n",
    "\n",
    "# Mean daily saturation vapor pressure (kPa)\n",
    "AllStn['SatVapPres'] = (AllStn.es_max + AllStn.es_min) / 2\n",
    "\n",
    "\n",
    "# Vapor pressure deficit (kPa)\n",
    "AllStn['VPD'] = AllStn.SatVapPres - AllStn.AvgVapPres\n",
    "\n",
    "\n",
    "# Beta: barometric pressure in kPa as a function of elevation in meters\n",
    "AllStn['Beta'] = 101.3 * (((293-0.0065*AllStn.Elevation)/293) ** 5.26)\n",
    "\n",
    "# Gamma: psychrometric constant in kPa/deg.C\n",
    "AllStn['Gamma'] = 0.00163 * (AllStn.Beta / 2.45)\n",
    "\n",
    "# e0: saturation vapor pressure at mean daily temperature\n",
    "AllStn['Tmean'] = (AllStn.MaxAirTemp + AllStn.MinAirTemp) / 2\n",
    "AllStn['e0'] = 0.6108 * np.exp((17.27*AllStn.Tmean) / (AllStn.Tmean+237.3))\n",
    "\n",
    "# Delta: slope of the saturation vapor pressure curve (kPa/deg.C) at mean air temperature (Tmean)\n",
    "AllStn['Delta'] = (4099*AllStn.e0) / ((AllStn.Tmean+237.3)**2)\n",
    "\n",
    "# Ro: radiation term of the PM equation for short canopy reference ET\n",
    "AllStn['Ro'] = (0.408*AllStn.Delta*(AllStn.NetRad*0.0864)) / (AllStn.Delta + \\\n",
    "                      AllStn.Gamma*(1+0.34*AllStn.AvgWindSpeed))\n",
    "\n",
    "# Ao: aerodynamic term of the PM equation for short canopy reference ET\n",
    "AllStn['Ao'] = (((900*AllStn.Gamma)/(AllStn.Tmean+273))*AllStn.AvgWindSpeed*(AllStn.SatVapPres-AllStn.AvgVapPres))/\\\n",
    "  (AllStn.Delta+AllStn.Gamma*(1+0.34*AllStn.AvgWindSpeed))\n",
    "\n",
    "AllStn['Daily_PMETo'] = AllStn.Ro + AllStn.Ao\n"
   ]
  },
  {
   "cell_type": "code",
   "execution_count": null,
   "metadata": {
    "colab": {
     "base_uri": "https://localhost:8080/",
     "height": 534
    },
    "executionInfo": {
     "elapsed": 16048,
     "status": "ok",
     "timestamp": 1655411475547,
     "user": {
      "displayName": "Arman Ahmadi",
      "userId": "08218172864365555484"
     },
     "user_tz": 420
    },
    "id": "oJMZJ5-W3lb3",
    "outputId": "981ca115-51b7-4fba-8374-7207483a197b"
   },
   "outputs": [],
   "source": [
    "# Comaring Daily PM ETo with summation of hourly PM ETo\n",
    "\n",
    "sns.set_theme(font_scale=1.4,style='white')\n",
    "\n",
    "AllStn['Daily-HourlySum'] = AllStn.Daily_PMETo - AllStn.PMETo\n",
    "\n",
    "plt.figure(figsize=(10,10))\n",
    "\n",
    "sns.displot(AllStn[['Daily-HourlySum']])\n",
    "\n",
    "plt.tight_layout()\n",
    "plt.xlabel('Difference in ETo (mm)')\n",
    "plt.xlim([-2,2])\n",
    "\n",
    "# plt.savefig('Daily-HourlySum.jpg', dpi=600)"
   ]
  },
  {
   "cell_type": "markdown",
   "metadata": {
    "id": "5RRRYqlnZCTp"
   },
   "source": [
    "### Data Exploration"
   ]
  },
  {
   "cell_type": "markdown",
   "metadata": {},
   "source": [
    "#### Initial Exploration & Visualization"
   ]
  },
  {
   "cell_type": "code",
   "execution_count": null,
   "metadata": {
    "colab": {
     "base_uri": "https://localhost:8080/"
    },
    "executionInfo": {
     "elapsed": 12,
     "status": "ok",
     "timestamp": 1651871196484,
     "user": {
      "displayName": "Arman Ahmadi",
      "userId": "08218172864365555484"
     },
     "user_tz": 420
    },
    "id": "_VsgDagVIU65",
    "outputId": "018ced71-4e7f-4d9e-dc9a-c7d80b0d4375"
   },
   "outputs": [],
   "source": [
    "# Number of data points in each ETo zone\n",
    "\n",
    "AllStn.groupby(['EToZone']).size()"
   ]
  },
  {
   "cell_type": "code",
   "execution_count": null,
   "metadata": {
    "colab": {
     "base_uri": "https://localhost:8080/",
     "height": 1000
    },
    "executionInfo": {
     "elapsed": 5158,
     "status": "ok",
     "timestamp": 1651871396070,
     "user": {
      "displayName": "Arman Ahmadi",
      "userId": "08218172864365555484"
     },
     "user_tz": 420
    },
    "id": "A44Rrnrdfwsl",
    "outputId": "6b8ec811-a180-4d7a-c14c-c390b4ce7b3f"
   },
   "outputs": [],
   "source": [
    "# Box plots (distributions)\n",
    "\n",
    "AllStnImpVar = AllStn[['EToZone','SolRad','AvgAirTemp','DewPoint','AvgWindSpeed','PMETo']]\n",
    "\n",
    "BoxPlotData = AllStnImpVar\n",
    "BoxPlotData.columns = ['ETo Zone','Sol Rad (W/m^2)','Avg Air Temp (deg.C)',\\\n",
    "                       'Avg Vap Pres (kPa)','Avg Wind Speed (m/s)','PM ETo (mm/day)']\n",
    "f, axes = plt.subplots(5,1, figsize=(6,18))\n",
    "\n",
    "PROPS = {\n",
    "    'boxprops':{'facecolor':'none', 'edgecolor':'blue'},\n",
    "    'medianprops':{'color':'red'},\n",
    "    'whiskerprops':{'color':'cornflowerblue'},\n",
    "    'capprops':{'color':'cornflowerblue'}\n",
    "}\n",
    "\n",
    "y_vars = [ 'PM ETo (mm/day)', 'Sol Rad (W/m^2)', 'Avg Air Temp (deg.C)', 'Avg Vap Pres (kPa)',\n",
    "    'Avg Wind Speed (m/s)']\n",
    "\n",
    "for i, y in enumerate(y_vars):\n",
    "    sns.boxplot(\n",
    "        data=AllStnImpVar,\n",
    "        x='ETo Zone',\n",
    "        y=y,\n",
    "        showfliers=False,\n",
    "        linewidth=1.3,\n",
    "        ax=axes[i],\n",
    "        palette='tab20'\n",
    "    )\n",
    "\n",
    "\n",
    "for i in range(4):\n",
    "    axes[i].get_xaxis().set_visible(False)\n",
    "\n",
    "sns.set(font_scale=1.6,style='whitegrid')\n",
    "plt.tight_layout()\n",
    "\n",
    "# plt.savefig('boxplots.jpg', dpi=600)\n"
   ]
  },
  {
   "cell_type": "code",
   "execution_count": null,
   "metadata": {
    "id": "3obvb2fzwifU"
   },
   "outputs": [],
   "source": [
    "# Converting the dates to an acceptable format for Python\n",
    "\n",
    "AllStn['Date']= pd.to_datetime(AllStn['Date'])"
   ]
  },
  {
   "cell_type": "code",
   "execution_count": null,
   "metadata": {
    "colab": {
     "base_uri": "https://localhost:8080/"
    },
    "executionInfo": {
     "elapsed": 1274,
     "status": "ok",
     "timestamp": 1651871698847,
     "user": {
      "displayName": "Arman Ahmadi",
      "userId": "08218172864365555484"
     },
     "user_tz": 420
    },
    "id": "f-WeGnXXkGEf",
    "outputId": "9327d7c5-278f-46d1-f65b-7ed835878d77"
   },
   "outputs": [],
   "source": [
    "# Subset data based on seasons\n",
    "\n",
    "AllStnSpring = AllStn[(79<=AllStn.Jul) & (AllStn.Jul < 172)]\n",
    "AllStnSummer = AllStn[(172<=AllStn.Jul) & (AllStn.Jul < 265)]\n",
    "AllStnFall = AllStn[(265<=AllStn.Jul) & (AllStn.Jul < 355)]\n",
    "AllStnWinter = AllStn[(355<=AllStn.Jul) | (AllStn.Jul < 79)]\n",
    "\n",
    "\n",
    "# Adding season as a new column\n",
    "\n",
    "AllStnSpring['Season'] = 'Spring'\n",
    "AllStnSummer['Season'] = 'Summer'\n",
    "AllStnFall['Season'] = 'Fall'\n",
    "AllStnWinter['Season'] = 'Winter'\n",
    "\n",
    "AllStn = pd.concat([AllStnSpring,AllStnSummer,AllStnFall,AllStnWinter],\\\n",
    "                   axis=0, ignore_index=True)\n",
    "\n",
    "# Adding month as a new column\n",
    "\n",
    "AllStn['Month'] = pd.DatetimeIndex(AllStn['Date']).month\n",
    "\n",
    "# Adding year as a new column\n",
    "\n",
    "AllStn['Year'] = pd.DatetimeIndex(AllStn['Date']).year\n",
    "\n",
    "\n",
    "# Number of samples per each season\n",
    "\n",
    "lenSpring = len(AllStnSpring)\n",
    "lenSummer = len(AllStnSummer)\n",
    "lenFall = len(AllStnFall)\n",
    "lenWinter = len(AllStnWinter)\n",
    "print('Number of samples in spring: ', lenSpring)\n",
    "print('Number of samples in summer: ', lenSummer)\n",
    "print('Number of samples in fall: ', lenFall)\n",
    "print('Number of samples in winter: ', lenWinter)"
   ]
  },
  {
   "cell_type": "markdown",
   "metadata": {
    "id": "WIgxLt_UvOyH"
   },
   "source": [
    "#### Pearson Correlation"
   ]
  },
  {
   "cell_type": "code",
   "execution_count": null,
   "metadata": {
    "colab": {
     "base_uri": "https://localhost:8080/",
     "height": 246
    },
    "executionInfo": {
     "elapsed": 240,
     "status": "error",
     "timestamp": 1700079893886,
     "user": {
      "displayName": "Arman Ahmadi",
      "userId": "08218172864365555484"
     },
     "user_tz": 480
    },
    "id": "vvIciJrhyuJ8",
    "outputId": "8821b40b-ab8d-46bb-d4db-a7a1da5e8b32"
   },
   "outputs": [],
   "source": [
    "# Pearson correlation heatmaps for each season\n",
    "\n",
    "sns.set_theme(font_scale=1.1,style='white')\n",
    "\n",
    "PCHData = AllStn[[  'PMETo', 'SolRad', 'MaxVapPres', 'MinVapPres', 'AvgVapPres',\\\n",
    "                                     'MaxRelHum','MinRelHum','AvgRelHum', 'DewPoint', 'AvgWindSpeed',\\\n",
    "                                     'MaxAirTemp', 'MinAirTemp', 'AvgAirTemp', 'MaxSoilTemp',\\\n",
    "                                     'MinSoilTemp', 'AvgSoilTemp', 'Season']]\n",
    "PCHData.columns = ['PM ETo', 'Sol Rad', 'Max Vap Pres', 'Min Vap Pres',\\\n",
    "                                    'Avg Vap Pres', 'Max Rel Hum', 'Min Rel Hum', 'Avg Rel Hum', 'Dew point',\\\n",
    "                                    'Avg Wind Speed','Max Air Temp', 'Min Air Temp', 'Avg Air Temp',\\\n",
    "                                    'Max Soil Temp', 'Min Soil Temp', 'Avg Soil Temp', 'Season']\n",
    "\n",
    "f, axes = plt.subplots(1,4, figsize=(10,8))\n",
    "\n",
    "corr_vars = ['PM ETo', 'Sol Rad', 'Max Vap Pres', 'Min Vap Pres', 'Avg Vap Pres',\n",
    "    'Max Rel Hum', 'Min Rel Hum', 'Avg Rel Hum', 'Dew point',\n",
    "    'Avg Wind Speed', 'Max Air Temp', 'Min Air Temp', 'Avg Air Temp',\n",
    "    'Max Soil Temp', 'Min Soil Temp', 'Avg Soil Temp']\n",
    "\n",
    "seasons = ['Spring', 'Summer', 'Fall', 'Winter']\n",
    "\n",
    "for i, season in enumerate(seasons):\n",
    "    corr_matrix = (\n",
    "        PCHData[PCHData.Season == season][corr_vars]\n",
    "        .corr()[['PM ETo']]\n",
    "        .sort_values(by='PM ETo', ascending=False)\n",
    "    )\n",
    "    sns.heatmap(\n",
    "        corr_matrix,\n",
    "        vmin=-1, vmax=1, annot=True,\n",
    "        cmap='RdBu_r', cbar=False,\n",
    "        ax=axes[i], xticklabels=False\n",
    "    )\n",
    "    axes[i].set_title(season)\n",
    "\n",
    "plt.tight_layout()\n",
    "\n",
    "# plt.savefig('correlation_seasons.jpg', dpi=600)"
   ]
  },
  {
   "cell_type": "code",
   "execution_count": null,
   "metadata": {
    "id": "Kr0qMuCQb4SE"
   },
   "outputs": [],
   "source": [
    "# Pearson correlation heatmap for California\n",
    "\n",
    "PCHData1 = AllStn[[ 'PMETo', 'SolRad', 'MaxVapPres', 'MinVapPres', 'AvgVapPres', 'VPD',\\\n",
    "                                     'MaxRelHum','MinRelHum','AvgRelHum', 'DewPoint', 'AvgWindSpeed',\\\n",
    "                                     'MaxAirTemp', 'MinAirTemp', 'AvgAirTemp', 'MaxSoilTemp',\\\n",
    "                                     'MinSoilTemp', 'AvgSoilTemp', 'Season', 'Month','EToZone']]\n",
    "\n",
    "meteo_var = ['PMETo', 'SolRad', 'MaxVapPres', 'MinVapPres', 'AvgVapPres','VPD',\\\n",
    "                                    'MaxRelHum','MinRelHum','AvgRelHum', 'DewPoint', 'AvgWindSpeed',\\\n",
    "                                    'MaxAirTemp', 'MinAirTemp', 'AvgAirTemp', 'MaxSoilTemp',\\\n",
    "                                    'MinSoilTemp', 'AvgSoilTemp']\n",
    "\n",
    "PC_total = [ [ None ] * 17 ] * 22\n",
    "\n",
    "PC_total[0] = np.array(PCHData1[meteo_var].corr()[['PMETo']]).transpose()\n",
    "\n",
    "zones = [1, 2, 3, 4, 5, 6, 7, 8, 9, 10, 12, 13, 14, 15, 16, 17, 18]\n",
    "\n",
    "for i, zone in enumerate(zones, start=1):\n",
    "    PC_total[i] = (\n",
    "        np.array(\n",
    "            PCHData1[PCHData1.EToZone == zone][meteo_var]\n",
    "            .corr()[['PMETo']]\n",
    "        ).transpose()\n",
    "    )\n",
    "\n",
    "PC_total[18] = np.array(PCHData1[PCHData1.Season=='Spring'][meteo_var].corr()[['PMETo']]).transpose()\n",
    "PC_total[19] = np.array(PCHData1[PCHData1.Season=='Summer'][meteo_var].corr()[['PMETo']]).transpose()\n",
    "PC_total[20] = np.array(PCHData1[PCHData1.Season=='Fall'][meteo_var].corr()[['PMETo']]).transpose()\n",
    "PC_total[21] = np.array(PCHData1[PCHData1.Season=='Winter'][meteo_var].corr()[['PMETo']]).transpose()\n",
    "\n",
    "PC_total =np.array(PC_total).reshape((22, 17))\n"
   ]
  },
  {
   "cell_type": "code",
   "execution_count": null,
   "metadata": {
    "colab": {
     "base_uri": "https://localhost:8080/",
     "height": 1000
    },
    "executionInfo": {
     "elapsed": 3765,
     "status": "ok",
     "timestamp": 1651871763328,
     "user": {
      "displayName": "Arman Ahmadi",
      "userId": "08218172864365555484"
     },
     "user_tz": 420
    },
    "id": "O1ix0j89hoez",
    "outputId": "de46924c-3235-4bdd-b66e-ac670e4ab205"
   },
   "outputs": [],
   "source": [
    "# Visualizing the heatmap\n",
    "\n",
    "plt.figure(figsize=(16,16))\n",
    "ylabels = ['California','Zone 1','Zone 2','Zone 3','Zone 4','Zone 5','Zone 6',\\\n",
    "           'Zone 7','Zone 8','Zone 9','Zone 10','Zone 12','Zone 13',\\\n",
    "           'Zone 14','Zone 15','Zone 16','Zone 17','Zone 18',\\\n",
    "           'Spring','Summer','Fall','Winter']\n",
    "xlabels = ['PM ETo','Sol Rad', 'Max Vap Pres', 'Min Vap Pres', 'Avg Vap Pres','VPD',\\\n",
    "           'Max Rel Hum','Min Rel Hum','Avg Rel Hum', 'Dew Point', 'Avg Wind Speed',\\\n",
    "           'Max Air Temp', 'Min Air Temp', 'Avg Air Temp', 'Max Soil Temp',\\\n",
    "           'Min Soil Temp', 'Avg Soil Temp']\n",
    "\n",
    "z1 = sns.heatmap(PC_total, annot=True, yticklabels=ylabels, xticklabels=xlabels,\\\n",
    "                 cmap='RdBu_r', fmt='.2f')\n",
    "plt.xticks(rotation='vertical')\n",
    "\n",
    "sns.set_theme(font_scale=1.4,style='white')\n",
    "plt.tight_layout()\n",
    "\n",
    "# plt.savefig('Pearson_correlation.jpg', dpi=600)"
   ]
  },
  {
   "cell_type": "code",
   "execution_count": null,
   "metadata": {
    "id": "BVDzaQo1k3hP"
   },
   "outputs": [],
   "source": [
    "# Monthly Pearson correlation\n",
    "\n",
    "PCHData1 = AllStn[[ 'PMETo', 'SolRad', 'MaxVapPres', 'MinVapPres', 'AvgVapPres','VPD',\\\n",
    "                                     'MaxRelHum','MinRelHum','AvgRelHum', 'DewPoint', 'AvgWindSpeed',\\\n",
    "                                     'MaxAirTemp', 'MinAirTemp', 'AvgAirTemp', 'MaxSoilTemp',\\\n",
    "                                     'MinSoilTemp', 'AvgSoilTemp', 'Season', 'Month','EToZone']]\n",
    "\n",
    "meteo_var = ['PMETo', 'SolRad', 'MaxVapPres', 'MinVapPres', 'AvgVapPres','VPD',\\\n",
    "                                    'MaxRelHum','MinRelHum','AvgRelHum', 'DewPoint', 'AvgWindSpeed',\\\n",
    "                                    'MaxAirTemp', 'MinAirTemp', 'AvgAirTemp', 'MaxSoilTemp',\\\n",
    "                                    'MinSoilTemp', 'AvgSoilTemp']\n",
    "\n",
    "PC_monthly = [ [ None ] * 17 ] * 12\n",
    "\n",
    "for month in range(1, 13):\n",
    "    PC_monthly[month - 1] = (\n",
    "        np.array(\n",
    "            PCHData1[PCHData1.Month == month][meteo_var]\n",
    "            .corr()[['PMETo']]\n",
    "        ).transpose()\n",
    "    )\n",
    "\n",
    "PC_monthly =np.array(PC_monthly).reshape((12, 17))\n"
   ]
  },
  {
   "cell_type": "code",
   "execution_count": null,
   "metadata": {
    "colab": {
     "base_uri": "https://localhost:8080/",
     "height": 971
    },
    "executionInfo": {
     "elapsed": 1547,
     "status": "ok",
     "timestamp": 1651871938894,
     "user": {
      "displayName": "Arman Ahmadi",
      "userId": "08218172864365555484"
     },
     "user_tz": 420
    },
    "id": "pXapcXjgpAgz",
    "outputId": "83d8bd6f-275f-4fe2-c670-199eb7038075"
   },
   "outputs": [],
   "source": [
    "# Visualizing the heatmap\n",
    "\n",
    "plt.figure(figsize=(16,10))\n",
    "ylabels = ['January', 'February', 'March', 'April', 'May', 'June', 'July',\\\n",
    "           'August', 'September', 'October', 'November', 'December']\n",
    "xlabels = ['PM ETo','Sol Rad', 'Max Vap Pres', 'Min Vap Pres', 'Avg Vap Pres','VPD',\\\n",
    "           'Max Rel Hum','Min Rel Hum','Avg Rel Hum', 'Dew Point', 'Avg Wind Speed',\\\n",
    "           'Max Air Temp', 'Min Air Temp', 'Avg Air Temp', 'Max Soil Temp',\\\n",
    "           'Min Soil Temp', 'Avg Soil Temp']\n",
    "\n",
    "z1 = sns.heatmap(PC_monthly, annot=True, yticklabels=ylabels, xticklabels=xlabels,\\\n",
    "                 cmap='RdBu_r', fmt='.2f')\n",
    "plt.xticks(rotation='vertical')\n",
    "\n",
    "sns.set_theme(font_scale=1.4,style='white')\n",
    "plt.tight_layout()\n",
    "\n",
    "# plt.savefig('monthly_Pearson_correlation.jpg', dpi=600)"
   ]
  },
  {
   "cell_type": "markdown",
   "metadata": {
    "id": "pXUACGeWNZO0"
   },
   "source": [
    "#### Mutual Information"
   ]
  },
  {
   "cell_type": "code",
   "execution_count": null,
   "metadata": {
    "id": "aiF-WkWji2Y_"
   },
   "outputs": [],
   "source": [
    "# Mutual information for each month\n",
    "\n",
    "meteo_var = ['SolRad', 'MaxVapPres', 'MinVapPres', 'AvgVapPres','VPD',\\\n",
    "                                    'MaxRelHum','MinRelHum','AvgRelHum', 'DewPoint', 'AvgWindSpeed',\\\n",
    "                                    'MaxAirTemp', 'MinAirTemp', 'AvgAirTemp', 'MaxSoilTemp',\\\n",
    "                                    'MinSoilTemp', 'AvgSoilTemp']\n",
    "\n",
    "data = AllStn.dropna(subset= meteo_var + ['PMETo'])\n",
    "\n",
    "MI_months = [ [ None ] * 16 ] * 12\n",
    "\n",
    "for month in range(1, 13):\n",
    "    X = data[data.Month == month][meteo_var]\n",
    "    y = data[data.Month == month][['PMETo']]\n",
    "    MI_state = skl.feature_selection.mutual_info_regression(X, y)\n",
    "    MI_months[month - 1] = MI_state\n"
   ]
  },
  {
   "cell_type": "code",
   "execution_count": null,
   "metadata": {
    "colab": {
     "base_uri": "https://localhost:8080/",
     "height": 971
    },
    "executionInfo": {
     "elapsed": 3960,
     "status": "ok",
     "timestamp": 1651013061958,
     "user": {
      "displayName": "Arman Ahmadi",
      "userId": "08218172864365555484"
     },
     "user_tz": 420
    },
    "id": "1l-KITJ8s8fl",
    "outputId": "74f260a8-1a08-4e1d-e761-0098064b513a"
   },
   "outputs": [],
   "source": [
    "# Visualizing monthly mutual information\n",
    "\n",
    "\n",
    "plt.figure(figsize=(15,10))\n",
    "ylabels = ['January', 'February', 'March', 'April', 'May', 'June', 'July',\\\n",
    "           'August', 'September', 'October', 'November', 'December']\n",
    "xlabels = ['Sol Rad', 'Max Vap Pres', 'Min Vap Pres', 'Avg Vap Pres','VPD',\\\n",
    "           'Max Rel Hum','Min Rel Hum','Avg Rel Hum', 'Dew Point', 'Avg Wind Speed',\\\n",
    "           'Max Air Temp', 'Min Air Temp', 'Avg Air Temp', 'Max Soil Temp',\\\n",
    "           'Min Soil Temp', 'Avg Soil Temp']\n",
    "\n",
    "z1 = sns.heatmap(MI_months, annot=True, yticklabels=ylabels, xticklabels=xlabels,\\\n",
    "                 cmap='YlGnBu', fmt='.2f')\n",
    "plt.xticks(rotation='vertical')\n",
    "\n",
    "sns.set_theme(font_scale=1.4,style='white')\n",
    "plt.tight_layout()\n",
    "\n",
    "# plt.savefig('monthly_mutual_information.jpg', dpi=600)"
   ]
  },
  {
   "cell_type": "markdown",
   "metadata": {
    "id": "j-15weDt7vjm"
   },
   "source": [
    "#### Random Forest Feature Importance"
   ]
  },
  {
   "cell_type": "code",
   "execution_count": null,
   "metadata": {
    "id": "D4D0zBx1ulCu"
   },
   "outputs": [],
   "source": [
    "# Fit Random Forest models for each month and get the feature importance\n",
    "\n",
    "meteo_var = ['SolRad', 'MaxVapPres', 'MinVapPres', 'AvgVapPres','VPD',\\\n",
    "                                    'MaxRelHum','MinRelHum','AvgRelHum', 'DewPoint', 'AvgWindSpeed',\\\n",
    "                                    'MaxAirTemp', 'MinAirTemp', 'AvgAirTemp', 'MaxSoilTemp',\\\n",
    "                                    'MinSoilTemp', 'AvgSoilTemp']\n",
    "\n",
    "data = AllStn.dropna(subset= meteo_var + ['PMETo'])\n",
    "\n",
    "importance_months = [ [ None ] * 16 ] * 12\n",
    "\n",
    "from sklearn.ensemble import RandomForestRegressor\n",
    "model = RandomForestRegressor()\n",
    "\n",
    "for month in range(1, 13):\n",
    "    X = data[data.Month == month][meteo_var]\n",
    "    y = data[data.Month == month][['PMETo']]\n",
    "    model.fit(X, y)\n",
    "    importance_months[month - 1] = model.feature_importances_\n"
   ]
  },
  {
   "cell_type": "code",
   "execution_count": null,
   "metadata": {
    "colab": {
     "base_uri": "https://localhost:8080/",
     "height": 971
    },
    "executionInfo": {
     "elapsed": 6178,
     "status": "ok",
     "timestamp": 1651024244428,
     "user": {
      "displayName": "Arman Ahmadi",
      "userId": "08218172864365555484"
     },
     "user_tz": 420
    },
    "id": "n8hyXd7ty7-G",
    "outputId": "7fc7bc7c-a193-4f9d-b759-ab914602da21"
   },
   "outputs": [],
   "source": [
    "# Visualizing monthly random forest feature importance\n",
    "\n",
    "\n",
    "plt.figure(figsize=(15,10))\n",
    "ylabels = ['January', 'February', 'March', 'April', 'May', 'June', 'July',\\\n",
    "           'August', 'September', 'October', 'November', 'December']\n",
    "xlabels = ['Sol Rad', 'Max Vap Pres', 'Min Vap Pres', 'Avg Vap Pres','VPD',\\\n",
    "           'Max Rel Hum','Min Rel Hum','Avg Rel Hum', 'Dew Point', 'Avg Wind Speed',\\\n",
    "           'Max Air Temp', 'Min Air Temp', 'Avg Air Temp', 'Max Soil Temp',\\\n",
    "           'Min Soil Temp', 'Avg Soil Temp']\n",
    "\n",
    "z1 = sns.heatmap(importance_months, annot=True, yticklabels=ylabels, xticklabels=xlabels,\\\n",
    "                 cmap='YlGnBu', fmt='.2f')\n",
    "plt.xticks(rotation='vertical')\n",
    "\n",
    "sns.set_theme(font_scale=1.4,style='white')\n",
    "plt.tight_layout()\n",
    "\n",
    "# plt.savefig('monthly_RF_feature_importance.jpg', dpi=600)"
   ]
  },
  {
   "cell_type": "markdown",
   "metadata": {
    "id": "eR6Lt0nk7C4O"
   },
   "source": [
    "#### Trend Analysis"
   ]
  },
  {
   "cell_type": "code",
   "execution_count": null,
   "metadata": {
    "id": "PPBBmN0d7Ht5"
   },
   "outputs": [],
   "source": [
    "# Averaged Annual Data for each station that have more than 339 days of data\n",
    "# for that specific year\n",
    "\n",
    "data = AllStn[['StnID', 'EToZone', 'Year', 'Daily_PMETo', 'Precipitation',\n",
    "              'SolRad', 'MaxAirTemp', 'VPD', 'AvgWindSpeed']]\n",
    "\n",
    "annual = data.groupby(['StnID','Year'], sort=False).mean()\n",
    "annual['Size'] = data.groupby(['StnID','Year'], sort=False).size()\n",
    "annual = annual[annual.Size > 339]\n",
    "\n",
    "# Zonal annual data averaged over available stations at the specific year\n",
    "annual_zone = annual.groupby(['EToZone','Year'], sort=False).mean()\n",
    "annual_zone = annual_zone.reset_index()\n",
    "\n",
    "# California annual data averaged over available stations at the specific year\n",
    "annual_CA = annual.groupby(['Year'], sort=False).mean()\n",
    "annual_CA = annual_CA.reset_index()\n",
    "\n",
    "# # Number of stations for each year\n",
    "# annual.groupby(['Year'], sort=False).size()"
   ]
  },
  {
   "cell_type": "code",
   "execution_count": null,
   "metadata": {
    "colab": {
     "base_uri": "https://localhost:8080/",
     "height": 1000
    },
    "executionInfo": {
     "elapsed": 3159,
     "status": "ok",
     "timestamp": 1651865794250,
     "user": {
      "displayName": "Arman Ahmadi",
      "userId": "08218172864365555484"
     },
     "user_tz": 420
    },
    "id": "7-D76Zk493SG",
    "outputId": "c6499648-1ed7-4e47-d586-3e9db2166646"
   },
   "outputs": [],
   "source": [
    "# Annual trends visualization\n",
    "\n",
    "f, axes = plt.subplots(6,1, figsize=(12,24))\n",
    "\n",
    "series = [\n",
    "    ('Daily_PMETo', 365, 'ETo (mm/year)'),\n",
    "    ('Precipitation', 365, 'Precipitation (mm/year)'),\n",
    "    ('SolRad', 1, 'Solar Radiation (W/m^2)'),\n",
    "    ('MaxAirTemp', 1, 'Max Air Temperature (°C)'),\n",
    "    ('VPD', 1, 'Vapor Pressure Deficit (kPa)'),\n",
    "    ('AvgWindSpeed', 1, 'Wind Speed (m/s)'),\n",
    "]\n",
    "\n",
    "x = annual_CA['Year']\n",
    "\n",
    "for i, (col, factor, ylabel) in enumerate(series):\n",
    "    y = (annual_CA[col] * factor)\n",
    "\n",
    "    # main line\n",
    "    sns.lineplot(x=x, y=y, ax=axes[i], color='blue', ls='--', marker='o', ms=8)\n",
    "\n",
    "    # trendline\n",
    "    valid = np.isfinite(x) & np.isfinite(y)\n",
    "    z = np.polyfit(x[valid], y[valid], 1)   # z[0] is slope\n",
    "    p = np.poly1d(z)\n",
    "\n",
    "    # plot trendline\n",
    "    sns.lineplot(x=x, y=p(x), ax=axes[i], color='red', ls='--')\n",
    "\n",
    "    # labels & title\n",
    "    axes[i].set(xlabel='Year', ylabel=ylabel, title=f'Trendline Slope = {z[0]:.3f}')\n",
    "\n",
    "sns.set_theme(font_scale=1.5,style='whitegrid')\n",
    "plt.tight_layout()\n",
    "# plt.savefig('Annual_CA_Trend.jpg', dpi=600)"
   ]
  }
 ],
 "metadata": {
  "colab": {
   "authorship_tag": "ABX9TyMKgylkOWpHkwV8mnMQx66J",
   "collapsed_sections": [
    "RRArLQ8CJTJ0",
    "5RRRYqlnZCTp",
    "WIgxLt_UvOyH",
    "pXUACGeWNZO0",
    "j-15weDt7vjm"
   ],
   "mount_file_id": "1aLm5OY7XGnNkyTqixLe2dEjaN-1WFcwC",
   "provenance": []
  },
  "kernelspec": {
   "display_name": ".venv",
   "language": "python",
   "name": "python3"
  },
  "language_info": {
   "codemirror_mode": {
    "name": "ipython",
    "version": 3
   },
   "file_extension": ".py",
   "mimetype": "text/x-python",
   "name": "python",
   "nbconvert_exporter": "python",
   "pygments_lexer": "ipython3",
   "version": "3.13.7"
  }
 },
 "nbformat": 4,
 "nbformat_minor": 0
}
